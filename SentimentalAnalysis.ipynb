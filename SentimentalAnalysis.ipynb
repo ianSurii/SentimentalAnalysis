{
 "cells": [
  {
   "cell_type": "markdown",
   "id": "pending-christianity",
   "metadata": {},
   "source": [
    "# Steps import data\n",
    "\n"
   ]
  },
  {
   "cell_type": "code",
   "execution_count": null,
   "id": "crazy-designation",
   "metadata": {},
   "outputs": [],
   "source": [
    "pip install openpyxl"
   ]
  },
  {
   "cell_type": "code",
   "execution_count": null,
   "id": "caroline-supervisor",
   "metadata": {},
   "outputs": [],
   "source": [
    "nltk.download('punkt')"
   ]
  },
  {
   "cell_type": "code",
   "execution_count": null,
   "id": "documentary-isolation",
   "metadata": {},
   "outputs": [],
   "source": [
    "\n",
    "pip install sklearn"
   ]
  },
  {
   "cell_type": "code",
   "execution_count": null,
   "id": "surrounded-gravity",
   "metadata": {},
   "outputs": [],
   "source": [
    "pip install textblob\n"
   ]
  },
  {
   "cell_type": "code",
   "execution_count": null,
   "id": "equal-sound",
   "metadata": {},
   "outputs": [],
   "source": [
    "pip install tensorflow"
   ]
  },
  {
   "cell_type": "code",
   "execution_count": 9,
   "id": "familiar-cache",
   "metadata": {},
   "outputs": [
    {
     "data": {
      "text/plain": [
       "'!\"#$%&\\'()*+,-./:;<=>?@[\\\\]^_`{|}~'"
      ]
     },
     "execution_count": 9,
     "metadata": {},
     "output_type": "execute_result"
    }
   ],
   "source": [
    "\n",
    "import pandas as pd\n",
    "from textblob import TextBlob\n",
    "import nltk\n",
    "import re\n",
    "import pandas as pd\n",
    "import numpy as np\n",
    "import string\n",
    "import warnings\n",
    "import seaborn as sns\n",
    "import matplotlib.pyplot as plt\n",
    "import tensorflow as tf\n",
    "from tensorflow.keras.preprocessing.text import one_hot,Tokenizer\n",
    "string.punctuation"
   ]
  },
  {
   "cell_type": "code",
   "execution_count": 10,
   "id": "metric-spirit",
   "metadata": {
    "scrolled": true
   },
   "outputs": [],
   "source": [
    "warnings.filterwarnings(\"ignore\",category=DeprecationWarning)"
   ]
  },
  {
   "cell_type": "code",
   "execution_count": 11,
   "id": "static-daughter",
   "metadata": {
    "scrolled": true
   },
   "outputs": [],
   "source": [
    "df_train=pd.read_excel(\"tweets.xlsx\",index_col=0,header=None)\n",
    "df_test=pd.read_excel(\"test.xlsx\",index_col=0,header=None)\n",
    "# df_positive_words=pd.read_excel(\"positive.xlsx\",index_col=0,header=None)\n"
   ]
  },
  {
   "cell_type": "code",
   "execution_count": 12,
   "id": "adult-pharmacy",
   "metadata": {
    "scrolled": true
   },
   "outputs": [
    {
     "data": {
      "text/html": [
       "<div>\n",
       "<style scoped>\n",
       "    .dataframe tbody tr th:only-of-type {\n",
       "        vertical-align: middle;\n",
       "    }\n",
       "\n",
       "    .dataframe tbody tr th {\n",
       "        vertical-align: top;\n",
       "    }\n",
       "\n",
       "    .dataframe thead th {\n",
       "        text-align: right;\n",
       "    }\n",
       "</style>\n",
       "<table border=\"1\" class=\"dataframe\">\n",
       "  <thead>\n",
       "    <tr style=\"text-align: right;\">\n",
       "      <th></th>\n",
       "      <th>1</th>\n",
       "      <th>2</th>\n",
       "      <th>3</th>\n",
       "      <th>4</th>\n",
       "      <th>5</th>\n",
       "      <th>6</th>\n",
       "      <th>7</th>\n",
       "      <th>8</th>\n",
       "      <th>9</th>\n",
       "      <th>10</th>\n",
       "      <th>11</th>\n",
       "      <th>12</th>\n",
       "      <th>13</th>\n",
       "      <th>14</th>\n",
       "      <th>15</th>\n",
       "      <th>16</th>\n",
       "      <th>17</th>\n",
       "      <th>18</th>\n",
       "      <th>19</th>\n",
       "    </tr>\n",
       "    <tr>\n",
       "      <th>0</th>\n",
       "      <th></th>\n",
       "      <th></th>\n",
       "      <th></th>\n",
       "      <th></th>\n",
       "      <th></th>\n",
       "      <th></th>\n",
       "      <th></th>\n",
       "      <th></th>\n",
       "      <th></th>\n",
       "      <th></th>\n",
       "      <th></th>\n",
       "      <th></th>\n",
       "      <th></th>\n",
       "      <th></th>\n",
       "      <th></th>\n",
       "      <th></th>\n",
       "      <th></th>\n",
       "      <th></th>\n",
       "      <th></th>\n",
       "    </tr>\n",
       "  </thead>\n",
       "  <tbody>\n",
       "    <tr>\n",
       "      <th>Tweet Id</th>\n",
       "      <td>Text</td>\n",
       "      <td>NaN</td>\n",
       "      <td>Name</td>\n",
       "      <td>Screen Name</td>\n",
       "      <td>UTC</td>\n",
       "      <td>Created At</td>\n",
       "      <td>Favorites</td>\n",
       "      <td>Retweets</td>\n",
       "      <td>Language</td>\n",
       "      <td>Client</td>\n",
       "      <td>Tweet Type</td>\n",
       "      <td>URLs</td>\n",
       "      <td>Hashtags</td>\n",
       "      <td>Mentions</td>\n",
       "      <td>Media Type</td>\n",
       "      <td>Media URLs</td>\n",
       "      <td>NaN</td>\n",
       "      <td>NaN</td>\n",
       "      <td>NaN</td>\n",
       "    </tr>\n",
       "    <tr>\n",
       "      <th>1377618168705859585</th>\n",
       "      <td>Model 3 deliveries in Europe https://t.co/fiBN...</td>\n",
       "      <td>NaN</td>\n",
       "      <td>Tesla</td>\n",
       "      <td>Tesla</td>\n",
       "      <td>2021-04-01T13:45:40.000Z</td>\n",
       "      <td>Thu Apr 01 13:45:40 +0000 2021</td>\n",
       "      <td>24152</td>\n",
       "      <td>1625</td>\n",
       "      <td>da</td>\n",
       "      <td>&lt;a href=\"http://twitter.com/download/iphone\" r...</td>\n",
       "      <td>Tweet</td>\n",
       "      <td>NaN</td>\n",
       "      <td>0</td>\n",
       "      <td>0</td>\n",
       "      <td>photo</td>\n",
       "      <td>https://pbs.twimg.com/media/Ex5IasZXMA4cVD8.jpg</td>\n",
       "      <td>https://pbs.twimg.com/media/Ex5IasiW8AAMVRk.jpg</td>\n",
       "      <td>https://pbs.twimg.com/media/Ex5IasoWUA0jdCg.jpg</td>\n",
       "      <td>https://pbs.twimg.com/media/Ex5IaslWgAc97h_.jpg</td>\n",
       "    </tr>\n",
       "    <tr>\n",
       "      <th>1375118425362628613</th>\n",
       "      <td>6,000+ Superchargers across Europe — at 600 lo...</td>\n",
       "      <td>NaN</td>\n",
       "      <td>Tesla</td>\n",
       "      <td>Tesla</td>\n",
       "      <td>2021-03-25T16:12:35.000Z</td>\n",
       "      <td>Thu Mar 25 16:12:35 +0000 2021</td>\n",
       "      <td>51615</td>\n",
       "      <td>4339</td>\n",
       "      <td>en</td>\n",
       "      <td>&lt;a href=\"http://twitter.com/download/iphone\" r...</td>\n",
       "      <td>Tweet</td>\n",
       "      <td>NaN</td>\n",
       "      <td>0</td>\n",
       "      <td>3</td>\n",
       "      <td>photo</td>\n",
       "      <td>https://pbs.twimg.com/media/ExVm6fuWUAQUFOh.jpg</td>\n",
       "      <td>https://pbs.twimg.com/media/ExVm6fvW8AIjLDy.jpg</td>\n",
       "      <td>https://pbs.twimg.com/media/ExVm6fwWgAgTDPa.jpg</td>\n",
       "      <td>https://pbs.twimg.com/media/ExVm6frWUAcr1EH.jpg</td>\n",
       "    </tr>\n",
       "    <tr>\n",
       "      <th>1374481774714126338</th>\n",
       "      <td>RT @Fogdo : Thank you @Tesla for this helpful ...</td>\n",
       "      <td>NaN</td>\n",
       "      <td>Tesla</td>\n",
       "      <td>Tesla</td>\n",
       "      <td>2021-03-23T22:02:46.000Z</td>\n",
       "      <td>Tue Mar 23 22:02:46 +0000 2021</td>\n",
       "      <td>0</td>\n",
       "      <td>0</td>\n",
       "      <td>en</td>\n",
       "      <td>&lt;a href=\"http://twitter.com/download/iphone\" r...</td>\n",
       "      <td>Retweet</td>\n",
       "      <td>NaN</td>\n",
       "      <td>0</td>\n",
       "      <td>1</td>\n",
       "      <td>video</td>\n",
       "      <td>https://video.twimg.com/ext_tw_video/117068847...</td>\n",
       "      <td>NaN</td>\n",
       "      <td>NaN</td>\n",
       "      <td>NaN</td>\n",
       "    </tr>\n",
       "    <tr>\n",
       "      <th>1371884988371771399</th>\n",
       "      <td>Backseat views from Model Y\\n\\n📸 by loghi007 o...</td>\n",
       "      <td>NaN</td>\n",
       "      <td>Tesla</td>\n",
       "      <td>Tesla</td>\n",
       "      <td>2021-03-16T18:04:04.000Z</td>\n",
       "      <td>Tue Mar 16 18:04:04 +0000 2021</td>\n",
       "      <td>44971</td>\n",
       "      <td>4112</td>\n",
       "      <td>en</td>\n",
       "      <td>&lt;a href=\"http://twitter.com/download/iphone\" r...</td>\n",
       "      <td>Tweet</td>\n",
       "      <td>NaN</td>\n",
       "      <td>0</td>\n",
       "      <td>0</td>\n",
       "      <td>video</td>\n",
       "      <td>https://video.twimg.com/ext_tw_video/137188490...</td>\n",
       "      <td>NaN</td>\n",
       "      <td>NaN</td>\n",
       "      <td>NaN</td>\n",
       "    </tr>\n",
       "  </tbody>\n",
       "</table>\n",
       "</div>"
      ],
      "text/plain": [
       "                                                                    1   2   \\\n",
       "0                                                                            \n",
       "Tweet Id                                                          Text NaN   \n",
       "1377618168705859585  Model 3 deliveries in Europe https://t.co/fiBN... NaN   \n",
       "1375118425362628613  6,000+ Superchargers across Europe — at 600 lo... NaN   \n",
       "1374481774714126338  RT @Fogdo : Thank you @Tesla for this helpful ... NaN   \n",
       "1371884988371771399  Backseat views from Model Y\\n\\n📸 by loghi007 o... NaN   \n",
       "\n",
       "                        3            4                         5   \\\n",
       "0                                                                   \n",
       "Tweet Id              Name  Screen Name                       UTC   \n",
       "1377618168705859585  Tesla        Tesla  2021-04-01T13:45:40.000Z   \n",
       "1375118425362628613  Tesla        Tesla  2021-03-25T16:12:35.000Z   \n",
       "1374481774714126338  Tesla        Tesla  2021-03-23T22:02:46.000Z   \n",
       "1371884988371771399  Tesla        Tesla  2021-03-16T18:04:04.000Z   \n",
       "\n",
       "                                                 6          7         8   \\\n",
       "0                                                                          \n",
       "Tweet Id                                 Created At  Favorites  Retweets   \n",
       "1377618168705859585  Thu Apr 01 13:45:40 +0000 2021      24152      1625   \n",
       "1375118425362628613  Thu Mar 25 16:12:35 +0000 2021      51615      4339   \n",
       "1374481774714126338  Tue Mar 23 22:02:46 +0000 2021          0         0   \n",
       "1371884988371771399  Tue Mar 16 18:04:04 +0000 2021      44971      4112   \n",
       "\n",
       "                           9   \\\n",
       "0                               \n",
       "Tweet Id             Language   \n",
       "1377618168705859585        da   \n",
       "1375118425362628613        en   \n",
       "1374481774714126338        en   \n",
       "1371884988371771399        en   \n",
       "\n",
       "                                                                    10  \\\n",
       "0                                                                        \n",
       "Tweet Id                                                        Client   \n",
       "1377618168705859585  <a href=\"http://twitter.com/download/iphone\" r...   \n",
       "1375118425362628613  <a href=\"http://twitter.com/download/iphone\" r...   \n",
       "1374481774714126338  <a href=\"http://twitter.com/download/iphone\" r...   \n",
       "1371884988371771399  <a href=\"http://twitter.com/download/iphone\" r...   \n",
       "\n",
       "                             11    12        13        14          15  \\\n",
       "0                                                                       \n",
       "Tweet Id             Tweet Type  URLs  Hashtags  Mentions  Media Type   \n",
       "1377618168705859585       Tweet   NaN         0         0       photo   \n",
       "1375118425362628613       Tweet   NaN         0         3       photo   \n",
       "1374481774714126338     Retweet   NaN         0         1       video   \n",
       "1371884988371771399       Tweet   NaN         0         0       video   \n",
       "\n",
       "                                                                    16  \\\n",
       "0                                                                        \n",
       "Tweet Id                                                    Media URLs   \n",
       "1377618168705859585    https://pbs.twimg.com/media/Ex5IasZXMA4cVD8.jpg   \n",
       "1375118425362628613    https://pbs.twimg.com/media/ExVm6fuWUAQUFOh.jpg   \n",
       "1374481774714126338  https://video.twimg.com/ext_tw_video/117068847...   \n",
       "1371884988371771399  https://video.twimg.com/ext_tw_video/137188490...   \n",
       "\n",
       "                                                                  17  \\\n",
       "0                                                                      \n",
       "Tweet Id                                                         NaN   \n",
       "1377618168705859585  https://pbs.twimg.com/media/Ex5IasiW8AAMVRk.jpg   \n",
       "1375118425362628613  https://pbs.twimg.com/media/ExVm6fvW8AIjLDy.jpg   \n",
       "1374481774714126338                                              NaN   \n",
       "1371884988371771399                                              NaN   \n",
       "\n",
       "                                                                  18  \\\n",
       "0                                                                      \n",
       "Tweet Id                                                         NaN   \n",
       "1377618168705859585  https://pbs.twimg.com/media/Ex5IasoWUA0jdCg.jpg   \n",
       "1375118425362628613  https://pbs.twimg.com/media/ExVm6fwWgAgTDPa.jpg   \n",
       "1374481774714126338                                              NaN   \n",
       "1371884988371771399                                              NaN   \n",
       "\n",
       "                                                                  19  \n",
       "0                                                                     \n",
       "Tweet Id                                                         NaN  \n",
       "1377618168705859585  https://pbs.twimg.com/media/Ex5IaslWgAc97h_.jpg  \n",
       "1375118425362628613  https://pbs.twimg.com/media/ExVm6frWUAcr1EH.jpg  \n",
       "1374481774714126338                                              NaN  \n",
       "1371884988371771399                                              NaN  "
      ]
     },
     "execution_count": 12,
     "metadata": {},
     "output_type": "execute_result"
    }
   ],
   "source": [
    "\n",
    "df_train.head()"
   ]
  },
  {
   "cell_type": "code",
   "execution_count": 13,
   "id": "comic-defeat",
   "metadata": {},
   "outputs": [],
   "source": [
    "cols = [0,7,8]\n",
    "df_train = df_train[df_train.columns[cols]]\n",
    "\n",
    "#Tweet Id \tText \tName \tScreen Name \tUTC \tCreated At \tFavorites \tRetweets \tLanguage \tClient \tTweet Type \tURLs \tHashtags \tMentions \tMedia Type \tMedia URLs \tNaN \tNaN \t\n"
   ]
  },
  {
   "cell_type": "code",
   "execution_count": 14,
   "id": "declared-bahrain",
   "metadata": {},
   "outputs": [
    {
     "data": {
      "text/html": [
       "<div>\n",
       "<style scoped>\n",
       "    .dataframe tbody tr th:only-of-type {\n",
       "        vertical-align: middle;\n",
       "    }\n",
       "\n",
       "    .dataframe tbody tr th {\n",
       "        vertical-align: top;\n",
       "    }\n",
       "\n",
       "    .dataframe thead th {\n",
       "        text-align: right;\n",
       "    }\n",
       "</style>\n",
       "<table border=\"1\" class=\"dataframe\">\n",
       "  <thead>\n",
       "    <tr style=\"text-align: right;\">\n",
       "      <th></th>\n",
       "      <th>1</th>\n",
       "      <th>8</th>\n",
       "      <th>9</th>\n",
       "    </tr>\n",
       "    <tr>\n",
       "      <th>0</th>\n",
       "      <th></th>\n",
       "      <th></th>\n",
       "      <th></th>\n",
       "    </tr>\n",
       "  </thead>\n",
       "  <tbody>\n",
       "    <tr>\n",
       "      <th>Tweet Id</th>\n",
       "      <td>Text</td>\n",
       "      <td>Retweets</td>\n",
       "      <td>Language</td>\n",
       "    </tr>\n",
       "    <tr>\n",
       "      <th>1377618168705859585</th>\n",
       "      <td>Model 3 deliveries in Europe https://t.co/fiBN...</td>\n",
       "      <td>1625</td>\n",
       "      <td>da</td>\n",
       "    </tr>\n",
       "    <tr>\n",
       "      <th>1375118425362628613</th>\n",
       "      <td>6,000+ Superchargers across Europe — at 600 lo...</td>\n",
       "      <td>4339</td>\n",
       "      <td>en</td>\n",
       "    </tr>\n",
       "    <tr>\n",
       "      <th>1374481774714126338</th>\n",
       "      <td>RT @Fogdo : Thank you @Tesla for this helpful ...</td>\n",
       "      <td>0</td>\n",
       "      <td>en</td>\n",
       "    </tr>\n",
       "    <tr>\n",
       "      <th>1371884988371771399</th>\n",
       "      <td>Backseat views from Model Y\\n\\n📸 by loghi007 o...</td>\n",
       "      <td>4112</td>\n",
       "      <td>en</td>\n",
       "    </tr>\n",
       "  </tbody>\n",
       "</table>\n",
       "</div>"
      ],
      "text/plain": [
       "                                                                     1  \\\n",
       "0                                                                        \n",
       "Tweet Id                                                          Text   \n",
       "1377618168705859585  Model 3 deliveries in Europe https://t.co/fiBN...   \n",
       "1375118425362628613  6,000+ Superchargers across Europe — at 600 lo...   \n",
       "1374481774714126338  RT @Fogdo : Thank you @Tesla for this helpful ...   \n",
       "1371884988371771399  Backseat views from Model Y\\n\\n📸 by loghi007 o...   \n",
       "\n",
       "                            8         9  \n",
       "0                                        \n",
       "Tweet Id             Retweets  Language  \n",
       "1377618168705859585      1625        da  \n",
       "1375118425362628613      4339        en  \n",
       "1374481774714126338         0        en  \n",
       "1371884988371771399      4112        en  "
      ]
     },
     "execution_count": 14,
     "metadata": {},
     "output_type": "execute_result"
    }
   ],
   "source": [
    "df_train.head()"
   ]
  },
  {
   "cell_type": "markdown",
   "id": "proper-break",
   "metadata": {},
   "source": [
    "# clean data"
   ]
  },
  {
   "cell_type": "code",
   "execution_count": null,
   "id": "freelance-brick",
   "metadata": {},
   "outputs": [],
   "source": []
  },
  {
   "cell_type": "code",
   "execution_count": 15,
   "id": "joint-rotation",
   "metadata": {},
   "outputs": [
    {
     "data": {
      "text/plain": [
       "(3196, 3)"
      ]
     },
     "execution_count": 15,
     "metadata": {},
     "output_type": "execute_result"
    }
   ],
   "source": [
    "df_train = df_train.drop_duplicates()\n",
    "df_train.drop\n",
    "df_train.shape\n",
    "#tweet = df[cols[1]]"
   ]
  },
  {
   "cell_type": "code",
   "execution_count": 16,
   "id": "ethical-logging",
   "metadata": {},
   "outputs": [
    {
     "data": {
      "text/html": [
       "<div>\n",
       "<style scoped>\n",
       "    .dataframe tbody tr th:only-of-type {\n",
       "        vertical-align: middle;\n",
       "    }\n",
       "\n",
       "    .dataframe tbody tr th {\n",
       "        vertical-align: top;\n",
       "    }\n",
       "\n",
       "    .dataframe thead th {\n",
       "        text-align: right;\n",
       "    }\n",
       "</style>\n",
       "<table border=\"1\" class=\"dataframe\">\n",
       "  <thead>\n",
       "    <tr style=\"text-align: right;\">\n",
       "      <th></th>\n",
       "      <th>1</th>\n",
       "      <th>8</th>\n",
       "      <th>9</th>\n",
       "    </tr>\n",
       "    <tr>\n",
       "      <th>0</th>\n",
       "      <th></th>\n",
       "      <th></th>\n",
       "      <th></th>\n",
       "    </tr>\n",
       "  </thead>\n",
       "  <tbody>\n",
       "    <tr>\n",
       "      <th>Tweet Id</th>\n",
       "      <td>Text</td>\n",
       "      <td>Retweets</td>\n",
       "      <td>Language</td>\n",
       "    </tr>\n",
       "    <tr>\n",
       "      <th>1377618168705859585</th>\n",
       "      <td>Model 3 deliveries in Europe https://t.co/fiBN...</td>\n",
       "      <td>1625</td>\n",
       "      <td>da</td>\n",
       "    </tr>\n",
       "    <tr>\n",
       "      <th>1375118425362628613</th>\n",
       "      <td>6,000+ Superchargers across Europe — at 600 lo...</td>\n",
       "      <td>4339</td>\n",
       "      <td>en</td>\n",
       "    </tr>\n",
       "    <tr>\n",
       "      <th>1374481774714126338</th>\n",
       "      <td>RT @Fogdo : Thank you @Tesla for this helpful ...</td>\n",
       "      <td>0</td>\n",
       "      <td>en</td>\n",
       "    </tr>\n",
       "    <tr>\n",
       "      <th>1371884988371771399</th>\n",
       "      <td>Backseat views from Model Y\\n\\n📸 by loghi007 o...</td>\n",
       "      <td>4112</td>\n",
       "      <td>en</td>\n",
       "    </tr>\n",
       "  </tbody>\n",
       "</table>\n",
       "</div>"
      ],
      "text/plain": [
       "                                                                     1  \\\n",
       "0                                                                        \n",
       "Tweet Id                                                          Text   \n",
       "1377618168705859585  Model 3 deliveries in Europe https://t.co/fiBN...   \n",
       "1375118425362628613  6,000+ Superchargers across Europe — at 600 lo...   \n",
       "1374481774714126338  RT @Fogdo : Thank you @Tesla for this helpful ...   \n",
       "1371884988371771399  Backseat views from Model Y\\n\\n📸 by loghi007 o...   \n",
       "\n",
       "                            8         9  \n",
       "0                                        \n",
       "Tweet Id             Retweets  Language  \n",
       "1377618168705859585      1625        da  \n",
       "1375118425362628613      4339        en  \n",
       "1374481774714126338         0        en  \n",
       "1371884988371771399      4112        en  "
      ]
     },
     "execution_count": 16,
     "metadata": {},
     "output_type": "execute_result"
    }
   ],
   "source": [
    "df_train.head()"
   ]
  },
  {
   "cell_type": "code",
   "execution_count": null,
   "id": "generic-progressive",
   "metadata": {},
   "outputs": [],
   "source": []
  },
  {
   "cell_type": "code",
   "execution_count": 17,
   "id": "wrapped-title",
   "metadata": {
    "scrolled": true
   },
   "outputs": [
    {
     "data": {
      "text/html": [
       "<div>\n",
       "<style scoped>\n",
       "    .dataframe tbody tr th:only-of-type {\n",
       "        vertical-align: middle;\n",
       "    }\n",
       "\n",
       "    .dataframe tbody tr th {\n",
       "        vertical-align: top;\n",
       "    }\n",
       "\n",
       "    .dataframe thead th {\n",
       "        text-align: right;\n",
       "    }\n",
       "</style>\n",
       "<table border=\"1\" class=\"dataframe\">\n",
       "  <thead>\n",
       "    <tr style=\"text-align: right;\">\n",
       "      <th></th>\n",
       "      <th>1</th>\n",
       "      <th>8</th>\n",
       "      <th>9</th>\n",
       "      <th>4</th>\n",
       "    </tr>\n",
       "    <tr>\n",
       "      <th>0</th>\n",
       "      <th></th>\n",
       "      <th></th>\n",
       "      <th></th>\n",
       "      <th></th>\n",
       "    </tr>\n",
       "  </thead>\n",
       "  <tbody>\n",
       "    <tr>\n",
       "      <th>Tweet Id</th>\n",
       "      <td>Text</td>\n",
       "      <td>Retweets</td>\n",
       "      <td>Language</td>\n",
       "      <td>Text</td>\n",
       "    </tr>\n",
       "    <tr>\n",
       "      <th>1377618168705859585</th>\n",
       "      <td>Model 3 deliveries in Europe https://t.co/fiBN...</td>\n",
       "      <td>1625</td>\n",
       "      <td>da</td>\n",
       "      <td>Model  deliveries in Europe httpstcofiBNpapG</td>\n",
       "    </tr>\n",
       "    <tr>\n",
       "      <th>1375118425362628613</th>\n",
       "      <td>6,000+ Superchargers across Europe — at 600 lo...</td>\n",
       "      <td>4339</td>\n",
       "      <td>en</td>\n",
       "      <td>Superchargers across Europe — at  locations a...</td>\n",
       "    </tr>\n",
       "    <tr>\n",
       "      <th>1374481774714126338</th>\n",
       "      <td>RT @Fogdo : Thank you @Tesla for this helpful ...</td>\n",
       "      <td>0</td>\n",
       "      <td>en</td>\n",
       "      <td>RT Fogdo  Thank you Tesla for this helpful and...</td>\n",
       "    </tr>\n",
       "    <tr>\n",
       "      <th>1371884988371771399</th>\n",
       "      <td>Backseat views from Model Y\\n\\n📸 by loghi007 o...</td>\n",
       "      <td>4112</td>\n",
       "      <td>en</td>\n",
       "      <td>Backseat views from Model Y\\n\\n📸 by loghi on I...</td>\n",
       "    </tr>\n",
       "  </tbody>\n",
       "</table>\n",
       "</div>"
      ],
      "text/plain": [
       "                                                                     1  \\\n",
       "0                                                                        \n",
       "Tweet Id                                                          Text   \n",
       "1377618168705859585  Model 3 deliveries in Europe https://t.co/fiBN...   \n",
       "1375118425362628613  6,000+ Superchargers across Europe — at 600 lo...   \n",
       "1374481774714126338  RT @Fogdo : Thank you @Tesla for this helpful ...   \n",
       "1371884988371771399  Backseat views from Model Y\\n\\n📸 by loghi007 o...   \n",
       "\n",
       "                            8         9  \\\n",
       "0                                         \n",
       "Tweet Id             Retweets  Language   \n",
       "1377618168705859585      1625        da   \n",
       "1375118425362628613      4339        en   \n",
       "1374481774714126338         0        en   \n",
       "1371884988371771399      4112        en   \n",
       "\n",
       "                                                                     4  \n",
       "0                                                                       \n",
       "Tweet Id                                                          Text  \n",
       "1377618168705859585       Model  deliveries in Europe httpstcofiBNpapG  \n",
       "1375118425362628613   Superchargers across Europe — at  locations a...  \n",
       "1374481774714126338  RT Fogdo  Thank you Tesla for this helpful and...  \n",
       "1371884988371771399  Backseat views from Model Y\\n\\n📸 by loghi on I...  "
      ]
     },
     "execution_count": 17,
     "metadata": {},
     "output_type": "execute_result"
    }
   ],
   "source": [
    "def clear_punctions(text):\n",
    "    text = \"\".join([char for char in text if char not in string.punctuation])\n",
    "    text = re.sub('[0-9]', '', text)\n",
    "    return text\n",
    "df_train[4] = df_train[1].apply(lambda x: clear_punctions(x))\n",
    "df_train.head()"
   ]
  },
  {
   "cell_type": "code",
   "execution_count": 18,
   "id": "cooked-server",
   "metadata": {},
   "outputs": [],
   "source": [
    "def getPolarity(tweet):\n",
    "    analysis=TextBlob(tweet)\n",
    "    return analysis.polarity\n",
    "df_train[9] = df_train[4].apply(getPolarity)  \n"
   ]
  },
  {
   "cell_type": "code",
   "execution_count": 19,
   "id": "written-purpose",
   "metadata": {},
   "outputs": [
    {
     "data": {
      "text/html": [
       "<div>\n",
       "<style scoped>\n",
       "    .dataframe tbody tr th:only-of-type {\n",
       "        vertical-align: middle;\n",
       "    }\n",
       "\n",
       "    .dataframe tbody tr th {\n",
       "        vertical-align: top;\n",
       "    }\n",
       "\n",
       "    .dataframe thead th {\n",
       "        text-align: right;\n",
       "    }\n",
       "</style>\n",
       "<table border=\"1\" class=\"dataframe\">\n",
       "  <thead>\n",
       "    <tr style=\"text-align: right;\">\n",
       "      <th></th>\n",
       "      <th>1</th>\n",
       "      <th>8</th>\n",
       "      <th>9</th>\n",
       "      <th>4</th>\n",
       "    </tr>\n",
       "    <tr>\n",
       "      <th>0</th>\n",
       "      <th></th>\n",
       "      <th></th>\n",
       "      <th></th>\n",
       "      <th></th>\n",
       "    </tr>\n",
       "  </thead>\n",
       "  <tbody>\n",
       "    <tr>\n",
       "      <th>Tweet Id</th>\n",
       "      <td>Text</td>\n",
       "      <td>Retweets</td>\n",
       "      <td>0.00</td>\n",
       "      <td>Text</td>\n",
       "    </tr>\n",
       "    <tr>\n",
       "      <th>1377618168705859585</th>\n",
       "      <td>Model 3 deliveries in Europe https://t.co/fiBN...</td>\n",
       "      <td>1625</td>\n",
       "      <td>0.00</td>\n",
       "      <td>Model  deliveries in Europe httpstcofiBNpapG</td>\n",
       "    </tr>\n",
       "    <tr>\n",
       "      <th>1375118425362628613</th>\n",
       "      <td>6,000+ Superchargers across Europe — at 600 lo...</td>\n",
       "      <td>4339</td>\n",
       "      <td>0.00</td>\n",
       "      <td>Superchargers across Europe — at  locations a...</td>\n",
       "    </tr>\n",
       "    <tr>\n",
       "      <th>1374481774714126338</th>\n",
       "      <td>RT @Fogdo : Thank you @Tesla for this helpful ...</td>\n",
       "      <td>0</td>\n",
       "      <td>0.35</td>\n",
       "      <td>RT Fogdo  Thank you Tesla for this helpful and...</td>\n",
       "    </tr>\n",
       "    <tr>\n",
       "      <th>1371884988371771399</th>\n",
       "      <td>Backseat views from Model Y\\n\\n📸 by loghi007 o...</td>\n",
       "      <td>4112</td>\n",
       "      <td>0.00</td>\n",
       "      <td>Backseat views from Model Y\\n\\n📸 by loghi on I...</td>\n",
       "    </tr>\n",
       "  </tbody>\n",
       "</table>\n",
       "</div>"
      ],
      "text/plain": [
       "                                                                     1  \\\n",
       "0                                                                        \n",
       "Tweet Id                                                          Text   \n",
       "1377618168705859585  Model 3 deliveries in Europe https://t.co/fiBN...   \n",
       "1375118425362628613  6,000+ Superchargers across Europe — at 600 lo...   \n",
       "1374481774714126338  RT @Fogdo : Thank you @Tesla for this helpful ...   \n",
       "1371884988371771399  Backseat views from Model Y\\n\\n📸 by loghi007 o...   \n",
       "\n",
       "                            8     9  \\\n",
       "0                                     \n",
       "Tweet Id             Retweets  0.00   \n",
       "1377618168705859585      1625  0.00   \n",
       "1375118425362628613      4339  0.00   \n",
       "1374481774714126338         0  0.35   \n",
       "1371884988371771399      4112  0.00   \n",
       "\n",
       "                                                                     4  \n",
       "0                                                                       \n",
       "Tweet Id                                                          Text  \n",
       "1377618168705859585       Model  deliveries in Europe httpstcofiBNpapG  \n",
       "1375118425362628613   Superchargers across Europe — at  locations a...  \n",
       "1374481774714126338  RT Fogdo  Thank you Tesla for this helpful and...  \n",
       "1371884988371771399  Backseat views from Model Y\\n\\n📸 by loghi on I...  "
      ]
     },
     "execution_count": 19,
     "metadata": {},
     "output_type": "execute_result"
    }
   ],
   "source": [
    "df_train.head()"
   ]
  },
  {
   "cell_type": "code",
   "execution_count": 25,
   "id": "bound-hypothesis",
   "metadata": {},
   "outputs": [
    {
     "data": {
      "text/html": [
       "<div>\n",
       "<style scoped>\n",
       "    .dataframe tbody tr th:only-of-type {\n",
       "        vertical-align: middle;\n",
       "    }\n",
       "\n",
       "    .dataframe tbody tr th {\n",
       "        vertical-align: top;\n",
       "    }\n",
       "\n",
       "    .dataframe thead th {\n",
       "        text-align: right;\n",
       "    }\n",
       "</style>\n",
       "<table border=\"1\" class=\"dataframe\">\n",
       "  <thead>\n",
       "    <tr style=\"text-align: right;\">\n",
       "      <th></th>\n",
       "      <th>1</th>\n",
       "      <th>8</th>\n",
       "      <th>9</th>\n",
       "      <th>4</th>\n",
       "      <th>10</th>\n",
       "    </tr>\n",
       "    <tr>\n",
       "      <th>0</th>\n",
       "      <th></th>\n",
       "      <th></th>\n",
       "      <th></th>\n",
       "      <th></th>\n",
       "      <th></th>\n",
       "    </tr>\n",
       "  </thead>\n",
       "  <tbody>\n",
       "    <tr>\n",
       "      <th>Tweet Id</th>\n",
       "      <td>Text</td>\n",
       "      <td>Retweets</td>\n",
       "      <td>0.00</td>\n",
       "      <td>Text</td>\n",
       "      <td>0</td>\n",
       "    </tr>\n",
       "    <tr>\n",
       "      <th>1377618168705859585</th>\n",
       "      <td>Model 3 deliveries in Europe https://t.co/fiBN...</td>\n",
       "      <td>1625</td>\n",
       "      <td>0.00</td>\n",
       "      <td>Model  deliveries in Europe httpstcofiBNpapG</td>\n",
       "      <td>0</td>\n",
       "    </tr>\n",
       "    <tr>\n",
       "      <th>1375118425362628613</th>\n",
       "      <td>6,000+ Superchargers across Europe — at 600 lo...</td>\n",
       "      <td>4339</td>\n",
       "      <td>0.00</td>\n",
       "      <td>Superchargers across Europe — at  locations a...</td>\n",
       "      <td>0</td>\n",
       "    </tr>\n",
       "    <tr>\n",
       "      <th>1374481774714126338</th>\n",
       "      <td>RT @Fogdo : Thank you @Tesla for this helpful ...</td>\n",
       "      <td>0</td>\n",
       "      <td>0.35</td>\n",
       "      <td>RT Fogdo  Thank you Tesla for this helpful and...</td>\n",
       "      <td>1</td>\n",
       "    </tr>\n",
       "    <tr>\n",
       "      <th>1371884988371771399</th>\n",
       "      <td>Backseat views from Model Y\\n\\n📸 by loghi007 o...</td>\n",
       "      <td>4112</td>\n",
       "      <td>0.00</td>\n",
       "      <td>Backseat views from Model Y\\n\\n📸 by loghi on I...</td>\n",
       "      <td>0</td>\n",
       "    </tr>\n",
       "  </tbody>\n",
       "</table>\n",
       "</div>"
      ],
      "text/plain": [
       "                                                                    1   \\\n",
       "0                                                                        \n",
       "Tweet Id                                                          Text   \n",
       "1377618168705859585  Model 3 deliveries in Europe https://t.co/fiBN...   \n",
       "1375118425362628613  6,000+ Superchargers across Europe — at 600 lo...   \n",
       "1374481774714126338  RT @Fogdo : Thank you @Tesla for this helpful ...   \n",
       "1371884988371771399  Backseat views from Model Y\\n\\n📸 by loghi007 o...   \n",
       "\n",
       "                           8     9   \\\n",
       "0                                     \n",
       "Tweet Id             Retweets  0.00   \n",
       "1377618168705859585      1625  0.00   \n",
       "1375118425362628613      4339  0.00   \n",
       "1374481774714126338         0  0.35   \n",
       "1371884988371771399      4112  0.00   \n",
       "\n",
       "                                                                    4  10  \n",
       "0                                                                          \n",
       "Tweet Id                                                          Text  0  \n",
       "1377618168705859585       Model  deliveries in Europe httpstcofiBNpapG  0  \n",
       "1375118425362628613   Superchargers across Europe — at  locations a...  0  \n",
       "1374481774714126338  RT Fogdo  Thank you Tesla for this helpful and...  1  \n",
       "1371884988371771399  Backseat views from Model Y\\n\\n📸 by loghi on I...  0  "
      ]
     },
     "execution_count": 25,
     "metadata": {},
     "output_type": "execute_result"
    }
   ],
   "source": [
    " def polarity(polarity):\n",
    "    if polarity < 0:\n",
    "        return \"-1\"\n",
    "    elif polarity == 0:\n",
    "        return '0'\n",
    "    else:\n",
    "        return '1'\n",
    "#     - for negative ,1 for positive and 0 for neutral\n",
    "\n",
    "df_train[10] = df_train[9].apply(lambda x:polarity(x))\n",
    "df_train.head()\n"
   ]
  },
  {
   "cell_type": "code",
   "execution_count": 69,
   "id": "pressed-plastic",
   "metadata": {},
   "outputs": [
    {
     "data": {
      "image/png": "[encoded data removed]",
      "text/plain": [
       "<Figure size 720x720 with 1 Axes>"
      ]
     },
     "metadata": {
      "needs_background": "light"
     },
     "output_type": "display_data"
    }
   ],
   "source": [
    "#Visualize\n",
    "tweets_length = [ len(nltk.word_tokenize(x)) for x in df_train[4] ]\n",
    "plt.figure(figsize = (10, 10)) \n",
    "plt.hist(tweets_length,bins=100)\n",
    "plt.show()\n"
   ]
  },
  {
   "cell_type": "markdown",
   "id": "armed-colorado",
   "metadata": {},
   "source": [
    "# #Remove StopWords and Tokenize"
   ]
  },
  {
   "cell_type": "code",
   "execution_count": 63,
   "id": "crude-prince",
   "metadata": {},
   "outputs": [
    {
     "name": "stderr",
     "output_type": "stream",
     "text": [
      "[nltk_data] Downloading package stopwords to /home/astra/nltk_data...\n",
      "[nltk_data]   Package stopwords is already up-to-date!\n"
     ]
    },
    {
     "data": {
      "text/plain": [
       "['i',\n",
       " 'me',\n",
       " 'my',\n",
       " 'myself',\n",
       " 'we',\n",
       " 'our',\n",
       " 'ours',\n",
       " 'ourselves',\n",
       " 'you',\n",
       " \"you're\",\n",
       " \"you've\",\n",
       " \"you'll\",\n",
       " \"you'd\",\n",
       " 'your',\n",
       " 'yours',\n",
       " 'yourself',\n",
       " 'yourselves',\n",
       " 'he',\n",
       " 'him',\n",
       " 'his',\n",
       " 'himself',\n",
       " 'she',\n",
       " \"she's\",\n",
       " 'her',\n",
       " 'hers',\n",
       " 'herself',\n",
       " 'it',\n",
       " \"it's\",\n",
       " 'its',\n",
       " 'itself',\n",
       " 'they',\n",
       " 'them',\n",
       " 'their',\n",
       " 'theirs',\n",
       " 'themselves',\n",
       " 'what',\n",
       " 'which',\n",
       " 'who',\n",
       " 'whom',\n",
       " 'this',\n",
       " 'that',\n",
       " \"that'll\",\n",
       " 'these',\n",
       " 'those',\n",
       " 'am',\n",
       " 'is',\n",
       " 'are',\n",
       " 'was',\n",
       " 'were',\n",
       " 'be',\n",
       " 'been',\n",
       " 'being',\n",
       " 'have',\n",
       " 'has',\n",
       " 'had',\n",
       " 'having',\n",
       " 'do',\n",
       " 'does',\n",
       " 'did',\n",
       " 'doing',\n",
       " 'a',\n",
       " 'an',\n",
       " 'the',\n",
       " 'and',\n",
       " 'but',\n",
       " 'if',\n",
       " 'or',\n",
       " 'because',\n",
       " 'as',\n",
       " 'until',\n",
       " 'while',\n",
       " 'of',\n",
       " 'at',\n",
       " 'by',\n",
       " 'for',\n",
       " 'with',\n",
       " 'about',\n",
       " 'against',\n",
       " 'between',\n",
       " 'into',\n",
       " 'through',\n",
       " 'during',\n",
       " 'before',\n",
       " 'after',\n",
       " 'above',\n",
       " 'below',\n",
       " 'to',\n",
       " 'from',\n",
       " 'up',\n",
       " 'down',\n",
       " 'in',\n",
       " 'out',\n",
       " 'on',\n",
       " 'off',\n",
       " 'over',\n",
       " 'under',\n",
       " 'again',\n",
       " 'further',\n",
       " 'then',\n",
       " 'once',\n",
       " 'here',\n",
       " 'there',\n",
       " 'when',\n",
       " 'where',\n",
       " 'why',\n",
       " 'how',\n",
       " 'all',\n",
       " 'any',\n",
       " 'both',\n",
       " 'each',\n",
       " 'few',\n",
       " 'more',\n",
       " 'most',\n",
       " 'other',\n",
       " 'some',\n",
       " 'such',\n",
       " 'no',\n",
       " 'nor',\n",
       " 'not',\n",
       " 'only',\n",
       " 'own',\n",
       " 'same',\n",
       " 'so',\n",
       " 'than',\n",
       " 'too',\n",
       " 'very',\n",
       " 's',\n",
       " 't',\n",
       " 'can',\n",
       " 'will',\n",
       " 'just',\n",
       " 'don',\n",
       " \"don't\",\n",
       " 'should',\n",
       " \"should've\",\n",
       " 'now',\n",
       " 'd',\n",
       " 'll',\n",
       " 'm',\n",
       " 'o',\n",
       " 're',\n",
       " 've',\n",
       " 'y',\n",
       " 'ain',\n",
       " 'aren',\n",
       " \"aren't\",\n",
       " 'couldn',\n",
       " \"couldn't\",\n",
       " 'didn',\n",
       " \"didn't\",\n",
       " 'doesn',\n",
       " \"doesn't\",\n",
       " 'hadn',\n",
       " \"hadn't\",\n",
       " 'hasn',\n",
       " \"hasn't\",\n",
       " 'haven',\n",
       " \"haven't\",\n",
       " 'isn',\n",
       " \"isn't\",\n",
       " 'ma',\n",
       " 'mightn',\n",
       " \"mightn't\",\n",
       " 'mustn',\n",
       " \"mustn't\",\n",
       " 'needn',\n",
       " \"needn't\",\n",
       " 'shan',\n",
       " \"shan't\",\n",
       " 'shouldn',\n",
       " \"shouldn't\",\n",
       " 'wasn',\n",
       " \"wasn't\",\n",
       " 'weren',\n",
       " \"weren't\",\n",
       " 'won',\n",
       " \"won't\",\n",
       " 'wouldn',\n",
       " \"wouldn't\"]"
      ]
     },
     "execution_count": 63,
     "metadata": {},
     "output_type": "execute_result"
    }
   ],
   "source": [
    "from nltk.corpus import stopwords\n",
    "nltk.download(\"stopwords\")\n",
    "stopwords.words('english')"
   ]
  },
  {
   "cell_type": "code",
   "execution_count": 64,
   "id": "seven-proportion",
   "metadata": {},
   "outputs": [],
   "source": [
    "\n",
    "# Obtain additional stopwords from nltk\n",
    "\n",
    "stop_words = stopwords.words('english')\n",
    "stop_words.extend(['http','https','from', 'subject', 're', 'edu', 'use','will','aap','co','day','user','stock','today','week','year'])\n"
   ]
  },
  {
   "cell_type": "code",
   "execution_count": 65,
   "id": "governmental-advisory",
   "metadata": {},
   "outputs": [],
   "source": [
    "def preprocess(text):\n",
    "    result = []\n",
    "    for token in gensim.utils.simple_preprocess(text):\n",
    "        if len(token) >= 3 and token not in stop_words:\n",
    "            result.append(token)\n",
    "            \n",
    "    return result\n",
    "df_train[11] = df_train[4].apply(lambda x:preprocess(x))"
   ]
  },
  {
   "cell_type": "code",
   "execution_count": 67,
   "id": "fossil-manhattan",
   "metadata": {},
   "outputs": [
    {
     "data": {
      "text/plain": [
       "0\n",
       "Tweet Id                                                          [text]\n",
       "1377618168705859585                          [model, deliveries, europe]\n",
       "1375118425362628613    [superchargers, across, europe, locations, cou...\n",
       "1374481774714126338        [fogdo, thank, tesla, helpful, cool, feature]\n",
       "1371884988371771399    [backseat, views, model, loghi, instagram, htt...\n",
       "                                             ...                        \n",
       "478937222784098304                           [standohar, picture, great]\n",
       "478936817215889408     [jasongfox, seansparkman, either, chance, sit,...\n",
       "478936076833144832                       [jblood, chance, sit, one, yet]\n",
       "478757282126123009     [elonmusk, edmunds, beats, tesla, lany, record...\n",
       "478646221687373824     [sirrobsonp, stay, tuned, gen, iii, car, three...\n",
       "Name: 11, Length: 3196, dtype: object"
      ]
     },
     "execution_count": 67,
     "metadata": {},
     "output_type": "execute_result"
    }
   ],
   "source": [
    "df_train[11]"
   ]
  },
  {
   "cell_type": "code",
   "execution_count": null,
   "id": "mathematical-prototype",
   "metadata": {},
   "outputs": [],
   "source": []
  },
  {
   "cell_type": "markdown",
   "id": "judicial-carroll",
   "metadata": {},
   "source": [
    "# split data"
   ]
  },
  {
   "cell_type": "code",
   "execution_count": 70,
   "id": "humanitarian-cutting",
   "metadata": {},
   "outputs": [
    {
     "name": "stderr",
     "output_type": "stream",
     "text": [
      "/home/astra/.local/lib/python3.8/site-packages/seaborn/_decorators.py:36: FutureWarning: Pass the following variable as a keyword arg: x. From version 0.12, the only valid positional argument will be `data`, and passing other arguments without an explicit keyword will result in an error or misinterpretation.\n",
      "  warnings.warn(\n"
     ]
    },
    {
     "data": {
      "text/plain": [
       "<matplotlib.axes._subplots.AxesSubplot at 0x7f2e40f27550>"
      ]
     },
     "execution_count": 70,
     "metadata": {},
     "output_type": "execute_result"
    },
    {
     "data": {
      "image/png": "[encoded data removed]",
      "text/plain": [
       "<Figure size 432x288 with 1 Axes>"
      ]
     },
     "metadata": {
      "needs_background": "light"
     },
     "output_type": "display_data"
    }
   ],
   "source": [
    "sns.countplot(df_train[10])"
   ]
  },
  {
   "cell_type": "code",
   "execution_count": 71,
   "id": "boring-announcement",
   "metadata": {},
   "outputs": [
    {
     "data": {
      "text/html": [
       "<div>\n",
       "<style scoped>\n",
       "    .dataframe tbody tr th:only-of-type {\n",
       "        vertical-align: middle;\n",
       "    }\n",
       "\n",
       "    .dataframe tbody tr th {\n",
       "        vertical-align: top;\n",
       "    }\n",
       "\n",
       "    .dataframe thead th {\n",
       "        text-align: right;\n",
       "    }\n",
       "</style>\n",
       "<table border=\"1\" class=\"dataframe\">\n",
       "  <thead>\n",
       "    <tr style=\"text-align: right;\">\n",
       "      <th></th>\n",
       "      <th>1</th>\n",
       "      <th>8</th>\n",
       "      <th>9</th>\n",
       "      <th>4</th>\n",
       "      <th>10</th>\n",
       "      <th>11</th>\n",
       "    </tr>\n",
       "    <tr>\n",
       "      <th>0</th>\n",
       "      <th></th>\n",
       "      <th></th>\n",
       "      <th></th>\n",
       "      <th></th>\n",
       "      <th></th>\n",
       "      <th></th>\n",
       "    </tr>\n",
       "  </thead>\n",
       "  <tbody>\n",
       "    <tr>\n",
       "      <th>Tweet Id</th>\n",
       "      <td>Text</td>\n",
       "      <td>Retweets</td>\n",
       "      <td>0.0</td>\n",
       "      <td>Text</td>\n",
       "      <td>0</td>\n",
       "      <td>[text]</td>\n",
       "    </tr>\n",
       "    <tr>\n",
       "      <th>1377618168705859585</th>\n",
       "      <td>Model 3 deliveries in Europe https://t.co/fiBN...</td>\n",
       "      <td>1625</td>\n",
       "      <td>0.0</td>\n",
       "      <td>Model  deliveries in Europe httpstcofiBNpapG</td>\n",
       "      <td>0</td>\n",
       "      <td>[model, deliveries, europe]</td>\n",
       "    </tr>\n",
       "    <tr>\n",
       "      <th>1375118425362628613</th>\n",
       "      <td>6,000+ Superchargers across Europe — at 600 lo...</td>\n",
       "      <td>4339</td>\n",
       "      <td>0.0</td>\n",
       "      <td>Superchargers across Europe — at  locations a...</td>\n",
       "      <td>0</td>\n",
       "      <td>[superchargers, across, europe, locations, cou...</td>\n",
       "    </tr>\n",
       "  </tbody>\n",
       "</table>\n",
       "</div>"
      ],
      "text/plain": [
       "                                                                    1   \\\n",
       "0                                                                        \n",
       "Tweet Id                                                          Text   \n",
       "1377618168705859585  Model 3 deliveries in Europe https://t.co/fiBN...   \n",
       "1375118425362628613  6,000+ Superchargers across Europe — at 600 lo...   \n",
       "\n",
       "                           8    9   \\\n",
       "0                                    \n",
       "Tweet Id             Retweets  0.0   \n",
       "1377618168705859585      1625  0.0   \n",
       "1375118425362628613      4339  0.0   \n",
       "\n",
       "                                                                    4  10  \\\n",
       "0                                                                           \n",
       "Tweet Id                                                          Text  0   \n",
       "1377618168705859585       Model  deliveries in Europe httpstcofiBNpapG  0   \n",
       "1375118425362628613   Superchargers across Europe — at  locations a...  0   \n",
       "\n",
       "                                                                    11  \n",
       "0                                                                       \n",
       "Tweet Id                                                        [text]  \n",
       "1377618168705859585                        [model, deliveries, europe]  \n",
       "1375118425362628613  [superchargers, across, europe, locations, cou...  "
      ]
     },
     "execution_count": 71,
     "metadata": {},
     "output_type": "execute_result"
    }
   ],
   "source": [
    "df_train.head(3)"
   ]
  },
  {
   "cell_type": "code",
   "execution_count": 72,
   "id": "expired-member",
   "metadata": {},
   "outputs": [
    {
     "data": {
      "image/png": "[encoded data removed]",
      "text/plain": [
       "<Figure size 432x288 with 1 Axes>"
      ]
     },
     "metadata": {
      "needs_background": "light"
     },
     "output_type": "display_data"
    }
   ],
   "source": [
    "length_train_dataset = df_train[1].str.len()\n",
    "length_test_dataset = df_test[1].str.len()\n",
    "plt.hist(length_train_dataset, bins=20,label=\"Train tweets\")\n",
    "plt.hist(length_test_dataset, bins=20,label=\"Test tweets\")\n",
    "plt.legend() \n",
    "plt.show()\n"
   ]
  },
  {
   "cell_type": "markdown",
   "id": "approximate-affiliate",
   "metadata": {},
   "source": [
    "# create a model"
   ]
  },
  {
   "cell_type": "code",
   "execution_count": 73,
   "id": "leading-button",
   "metadata": {},
   "outputs": [
    {
     "name": "stdout",
     "output_type": "stream",
     "text": [
      "Train (3196, 6) \n",
      "Test (1433, 18) \n",
      "Combine (4629, 18)\n"
     ]
    },
    {
     "data": {
      "text/html": [
       "<div>\n",
       "<style scoped>\n",
       "    .dataframe tbody tr th:only-of-type {\n",
       "        vertical-align: middle;\n",
       "    }\n",
       "\n",
       "    .dataframe tbody tr th {\n",
       "        vertical-align: top;\n",
       "    }\n",
       "\n",
       "    .dataframe thead th {\n",
       "        text-align: right;\n",
       "    }\n",
       "</style>\n",
       "<table border=\"1\" class=\"dataframe\">\n",
       "  <thead>\n",
       "    <tr style=\"text-align: right;\">\n",
       "      <th></th>\n",
       "      <th>1</th>\n",
       "      <th>2</th>\n",
       "      <th>3</th>\n",
       "      <th>4</th>\n",
       "      <th>5</th>\n",
       "      <th>6</th>\n",
       "      <th>7</th>\n",
       "      <th>8</th>\n",
       "      <th>9</th>\n",
       "      <th>10</th>\n",
       "      <th>11</th>\n",
       "      <th>12</th>\n",
       "      <th>13</th>\n",
       "      <th>14</th>\n",
       "      <th>15</th>\n",
       "      <th>16</th>\n",
       "      <th>17</th>\n",
       "      <th>18</th>\n",
       "    </tr>\n",
       "  </thead>\n",
       "  <tbody>\n",
       "    <tr>\n",
       "      <th>0</th>\n",
       "      <td>Text</td>\n",
       "      <td>NaN</td>\n",
       "      <td>NaN</td>\n",
       "      <td>Text</td>\n",
       "      <td>NaN</td>\n",
       "      <td>NaN</td>\n",
       "      <td>NaN</td>\n",
       "      <td>Retweets</td>\n",
       "      <td>0</td>\n",
       "      <td>0</td>\n",
       "      <td>[text]</td>\n",
       "      <td>NaN</td>\n",
       "      <td>NaN</td>\n",
       "      <td>NaN</td>\n",
       "      <td>NaN</td>\n",
       "      <td>NaN</td>\n",
       "      <td>NaN</td>\n",
       "      <td>NaN</td>\n",
       "    </tr>\n",
       "    <tr>\n",
       "      <th>1</th>\n",
       "      <td>Model 3 deliveries in Europe https://t.co/fiBN...</td>\n",
       "      <td>NaN</td>\n",
       "      <td>NaN</td>\n",
       "      <td>Model  deliveries in Europe httpstcofiBNpapG</td>\n",
       "      <td>NaN</td>\n",
       "      <td>NaN</td>\n",
       "      <td>NaN</td>\n",
       "      <td>1625</td>\n",
       "      <td>0</td>\n",
       "      <td>0</td>\n",
       "      <td>[model, deliveries, europe]</td>\n",
       "      <td>NaN</td>\n",
       "      <td>NaN</td>\n",
       "      <td>NaN</td>\n",
       "      <td>NaN</td>\n",
       "      <td>NaN</td>\n",
       "      <td>NaN</td>\n",
       "      <td>NaN</td>\n",
       "    </tr>\n",
       "    <tr>\n",
       "      <th>2</th>\n",
       "      <td>6,000+ Superchargers across Europe — at 600 lo...</td>\n",
       "      <td>NaN</td>\n",
       "      <td>NaN</td>\n",
       "      <td>Superchargers across Europe — at  locations a...</td>\n",
       "      <td>NaN</td>\n",
       "      <td>NaN</td>\n",
       "      <td>NaN</td>\n",
       "      <td>4339</td>\n",
       "      <td>0</td>\n",
       "      <td>0</td>\n",
       "      <td>[superchargers, across, europe, locations, cou...</td>\n",
       "      <td>NaN</td>\n",
       "      <td>NaN</td>\n",
       "      <td>NaN</td>\n",
       "      <td>NaN</td>\n",
       "      <td>NaN</td>\n",
       "      <td>NaN</td>\n",
       "      <td>NaN</td>\n",
       "    </tr>\n",
       "    <tr>\n",
       "      <th>3</th>\n",
       "      <td>RT @Fogdo : Thank you @Tesla for this helpful ...</td>\n",
       "      <td>NaN</td>\n",
       "      <td>NaN</td>\n",
       "      <td>RT Fogdo  Thank you Tesla for this helpful and...</td>\n",
       "      <td>NaN</td>\n",
       "      <td>NaN</td>\n",
       "      <td>NaN</td>\n",
       "      <td>0</td>\n",
       "      <td>0.35</td>\n",
       "      <td>1</td>\n",
       "      <td>[fogdo, thank, tesla, helpful, cool, feature]</td>\n",
       "      <td>NaN</td>\n",
       "      <td>NaN</td>\n",
       "      <td>NaN</td>\n",
       "      <td>NaN</td>\n",
       "      <td>NaN</td>\n",
       "      <td>NaN</td>\n",
       "      <td>NaN</td>\n",
       "    </tr>\n",
       "    <tr>\n",
       "      <th>4</th>\n",
       "      <td>Backseat views from Model Y\\n\\n📸 by loghi007 o...</td>\n",
       "      <td>NaN</td>\n",
       "      <td>NaN</td>\n",
       "      <td>Backseat views from Model Y\\n\\n📸 by loghi on I...</td>\n",
       "      <td>NaN</td>\n",
       "      <td>NaN</td>\n",
       "      <td>NaN</td>\n",
       "      <td>4112</td>\n",
       "      <td>0</td>\n",
       "      <td>0</td>\n",
       "      <td>[backseat, views, model, loghi, instagram, htt...</td>\n",
       "      <td>NaN</td>\n",
       "      <td>NaN</td>\n",
       "      <td>NaN</td>\n",
       "      <td>NaN</td>\n",
       "      <td>NaN</td>\n",
       "      <td>NaN</td>\n",
       "      <td>NaN</td>\n",
       "    </tr>\n",
       "  </tbody>\n",
       "</table>\n",
       "</div>"
      ],
      "text/plain": [
       "                                                  1    2    3   \\\n",
       "0                                               Text  NaN  NaN   \n",
       "1  Model 3 deliveries in Europe https://t.co/fiBN...  NaN  NaN   \n",
       "2  6,000+ Superchargers across Europe — at 600 lo...  NaN  NaN   \n",
       "3  RT @Fogdo : Thank you @Tesla for this helpful ...  NaN  NaN   \n",
       "4  Backseat views from Model Y\\n\\n📸 by loghi007 o...  NaN  NaN   \n",
       "\n",
       "                                                  4    5   6   7         8   \\\n",
       "0                                               Text  NaN NaN NaN  Retweets   \n",
       "1       Model  deliveries in Europe httpstcofiBNpapG  NaN NaN NaN      1625   \n",
       "2   Superchargers across Europe — at  locations a...  NaN NaN NaN      4339   \n",
       "3  RT Fogdo  Thank you Tesla for this helpful and...  NaN NaN NaN         0   \n",
       "4  Backseat views from Model Y\\n\\n📸 by loghi on I...  NaN NaN NaN      4112   \n",
       "\n",
       "     9  10                                                 11  12  13   14  \\\n",
       "0     0  0                                             [text] NaN NaN  NaN   \n",
       "1     0  0                        [model, deliveries, europe] NaN NaN  NaN   \n",
       "2     0  0  [superchargers, across, europe, locations, cou... NaN NaN  NaN   \n",
       "3  0.35  1      [fogdo, thank, tesla, helpful, cool, feature] NaN NaN  NaN   \n",
       "4     0  0  [backseat, views, model, loghi, instagram, htt... NaN NaN  NaN   \n",
       "\n",
       "    15   16   17   18  \n",
       "0  NaN  NaN  NaN  NaN  \n",
       "1  NaN  NaN  NaN  NaN  \n",
       "2  NaN  NaN  NaN  NaN  \n",
       "3  NaN  NaN  NaN  NaN  \n",
       "4  NaN  NaN  NaN  NaN  "
      ]
     },
     "execution_count": 73,
     "metadata": {},
     "output_type": "execute_result"
    }
   ],
   "source": [
    "combine=df_train.append(df_test,ignore_index=True) #train and test dataset are combined\n",
    "df_train.shape\n",
    "print(\"Train\",df_train.shape,\"\\nTest\" ,df_test.shape,\"\\nCombine\",combine.shape)\n",
    "combine.head(5)"
   ]
  },
  {
   "cell_type": "code",
   "execution_count": 77,
   "id": "colonial-penguin",
   "metadata": {},
   "outputs": [],
   "source": [
    "def remove_pattern(input_text,pattern):\n",
    "    r= re.findall(pattern, input_text)\n",
    "    for i in r:\n",
    "        input_text = re.sub(i, '', input_text)\n",
    "    return input_text"
   ]
  },
  {
   "cell_type": "code",
   "execution_count": 78,
   "id": "located-compensation",
   "metadata": {},
   "outputs": [
    {
     "data": {
      "text/plain": [
       "0                                               [Text]\n",
       "1            [Model, deliveries, Europe, https, fiBNp]\n",
       "2    [Superchargers, across, Europe, locations, cou...\n",
       "3    [Thank, this, helpful, cool, feature, https, F...\n",
       "4    [Backseat, views, from, Model, loghi, Instagra...\n",
       "Name: 4, dtype: object"
      ]
     },
     "execution_count": 78,
     "metadata": {},
     "output_type": "execute_result"
    }
   ],
   "source": [
    "combine[4] = np.vectorize(remove_pattern)(combine[1],\"@[\\w]*\") \n",
    "combine[4] = combine[4].str.replace(\"[^a-zA-Z#]\",\" \")\n",
    "combine[4] = combine[4].apply(lambda x: ' '.join([w for w in x.split() if len(w)>3]))\n",
    "\n",
    "\n",
    "tokenized_tweet = combine[4].apply(lambda x:x.split()) #it will split all words by whitespace\n",
    "tokenized_tweet.head()\n",
    "\n",
    "\n"
   ]
  },
  {
   "cell_type": "code",
   "execution_count": 36,
   "id": "continental-closure",
   "metadata": {},
   "outputs": [],
   "source": [
    "import sklearn"
   ]
  },
  {
   "cell_type": "code",
   "execution_count": 37,
   "id": "natural-welding",
   "metadata": {},
   "outputs": [
    {
     "name": "stdout",
     "output_type": "stream",
     "text": [
      "Defaulting to user installation because normal site-packages is not writeable\n",
      "Requirement already satisfied: gensim in /home/astra/.local/lib/python3.8/site-packages (4.0.1)\n",
      "Requirement already satisfied: numpy>=1.11.3 in /home/astra/.local/lib/python3.8/site-packages (from gensim) (1.19.5)\n",
      "Requirement already satisfied: scipy>=0.18.1 in /usr/lib/python3/dist-packages (from gensim) (1.3.3)\n",
      "Requirement already satisfied: smart-open>=1.8.1 in /home/astra/.local/lib/python3.8/site-packages (from gensim) (5.0.0)\n",
      "Note: you may need to restart the kernel to use updated packages.\n"
     ]
    }
   ],
   "source": [
    "pip install gensim"
   ]
  },
  {
   "cell_type": "code",
   "execution_count": 79,
   "id": "tutorial-arizona",
   "metadata": {},
   "outputs": [],
   "source": [
    "from sklearn.model_selection import train_test_split\n",
    "tweet = combine[4].values\n",
    "polarity = combine[10].values\n",
    "tweets_train, tweets_test, y_train, y_test = train_test_split(tweet, polarity, test_size=0.2, random_state=1000)"
   ]
  },
  {
   "cell_type": "markdown",
   "id": "super-desire",
   "metadata": {},
   "source": [
    "# Train model"
   ]
  },
  {
   "cell_type": "code",
   "execution_count": 113,
   "id": "later-corpus",
   "metadata": {},
   "outputs": [
    {
     "data": {
      "text/plain": [
       "<4629x1000 sparse matrix of type '<class 'numpy.int64'>'\n",
       "\twith 20860 stored elements in Compressed Sparse Row format>"
      ]
     },
     "execution_count": 113,
     "metadata": {},
     "output_type": "execute_result"
    }
   ],
   "source": [
    "from sklearn.feature_extraction.text import TfidfVectorizer, CountVectorizer \n",
    "import gensim\n",
    "\n",
    "bow_vectorizer = CountVectorizer(max_df=0.90 ,min_df=2 , max_features=1000,stop_words='english')\n",
    "bow = bow_vectorizer.fit_transform(combine[4]) # tokenize and build vocabulary\n",
    "bow"
   ]
  },
  {
   "cell_type": "code",
   "execution_count": 81,
   "id": "colored-brazil",
   "metadata": {},
   "outputs": [],
   "source": [
    "\n",
    "combine=combine.fillna(0) #replace all null values by 0\n",
    "from sklearn.model_selection import train_test_split\n",
    "X_train, X_test, y_train, y_test = train_test_split(bow, combine[10],random_state=69,test_size=0.2)"
   ]
  },
  {
   "cell_type": "code",
   "execution_count": 82,
   "id": "baking-express",
   "metadata": {},
   "outputs": [
    {
     "name": "stdout",
     "output_type": "stream",
     "text": [
      "X_train_shape :  (3703, 1000)\n",
      "X_test_shape :  (926, 1000)\n",
      "y_train_shape :  (3703,)\n",
      "y_test_shape :  (926,)\n"
     ]
    }
   ],
   "source": [
    "\n",
    "\n",
    "print(\"X_train_shape : \",X_train.shape)\n",
    "print(\"X_test_shape : \",X_test.shape)\n",
    "print(\"y_train_shape : \",y_train.shape)\n",
    "print(\"y_test_shape : \",y_test.shape)\n",
    "\n"
   ]
  },
  {
   "cell_type": "code",
   "execution_count": 83,
   "id": "medium-purse",
   "metadata": {},
   "outputs": [],
   "source": [
    "import tensorflow as tf\n",
    "from tensorflow.keras.preprocessing.text import one_hot,Tokenizer"
   ]
  },
  {
   "cell_type": "markdown",
   "id": "mexican-martial",
   "metadata": {},
   "source": [
    "# NaïveBayes-BernoulliNB\n"
   ]
  },
  {
   "cell_type": "code",
   "execution_count": 84,
   "id": "superior-collector",
   "metadata": {},
   "outputs": [],
   "source": [
    "# # Make Predictions"
   ]
  },
  {
   "cell_type": "code",
   "execution_count": 85,
   "id": "animated-wellington",
   "metadata": {},
   "outputs": [],
   "source": [
    "from sklearn.naive_bayes import MultinomialNB  # Naive Bayes Classifier\n",
    "\n",
    "model_naive = MultinomialNB().fit(X_train, y_train) \n",
    "predicted_naive = model_naive.predict(X_test)\n",
    "\n"
   ]
  },
  {
   "cell_type": "code",
   "execution_count": 86,
   "id": "subtle-holmes",
   "metadata": {},
   "outputs": [
    {
     "name": "stdout",
     "output_type": "stream",
     "text": [
      "Accuracy with Naive-bayes:  43.08855291576673 %\n"
     ]
    }
   ],
   "source": [
    "from sklearn.metrics import accuracy_score\n",
    "\n",
    "score_naive = accuracy_score(predicted_naive, y_test)\n",
    "\n",
    "print(\"Accuracy with Naive-bayes: \",(score_naive)*100,\"%\")"
   ]
  },
  {
   "cell_type": "code",
   "execution_count": 127,
   "id": "signal-salad",
   "metadata": {},
   "outputs": [
    {
     "name": "stdout",
     "output_type": "stream",
     "text": [
      "[['Geeks', 'for', 'Geeks'], ['is'], ['best', 'computer', 'science', 'portal']]\n"
     ]
    },
    {
     "data": {
      "text/plain": [
       "['Geeks', 'for', 'Geeks', 'is', 'best', 'computer', 'science', 'portal']"
      ]
     },
     "execution_count": 127,
     "metadata": {},
     "output_type": "execute_result"
    }
   ],
   "source": [
    "\n",
    "test_tweet= ['Geeks for Geeks', 'is', 'best computer science portal']\n",
    "\n",
    "res = list(map(str.split, test_tweet))\n",
    "\n",
    "\n",
    "\n",
    "\n",
    "print(res)\n",
    "list_of_words=[]\n",
    "for i in res:\n",
    "    for j in i:\n",
    "        list_of_words.append(j)\n",
    "list_of_words\n",
    "total_words = len(list(list_of_words))\n",
    "list_of_words\n",
    "\n"
   ]
  },
  {
   "cell_type": "code",
   "execution_count": 122,
   "id": "emerging-papua",
   "metadata": {
    "scrolled": false
   },
   "outputs": [
    {
     "data": {
      "image/png": "[encoded data removed]",
      "text/plain": [
       "<Figure size 3600x2400 with 1 Axes>"
      ]
     },
     "metadata": {
      "needs_background": "light"
     },
     "output_type": "display_data"
    }
   ],
   "source": [
    "\n",
    "from sklearn.metrics import confusion_matrix\n",
    "\n",
    "plt.figure(dpi=600)\n",
    "mat = confusion_matrix(y_test, predicted_naive)\n",
    "sns.heatmap(mat.T, annot=True, fmt='d', cbar=False)\n",
    "\n",
    "plt.title('Confusion Matrix for Naive Bayes')\n",
    "plt.xlabel('true label')\n",
    "plt.ylabel('predicted label')\n",
    "# plt.savefig(\"confusion_matrix.png\")\n",
    "plt.show()\n"
   ]
  },
  {
   "cell_type": "markdown",
   "id": "downtown-platform",
   "metadata": {},
   "source": [
    "# Support Vector Machine"
   ]
  },
  {
   "cell_type": "code",
   "execution_count": 248,
   "id": "boxed-voltage",
   "metadata": {},
   "outputs": [],
   "source": [
    "clean_review = []\n",
    "for i in range(4629):\n",
    "    txt = re.sub('[^a-zA-Z]',' ',combine[4][i])\n",
    "    txt = txt.lower()\n",
    "    txt = txt.split()\n",
    "#     txt = [ps.stem(word) for word in txt if not word in set(stopwords.words('english'))]\n",
    "    txt = ' '.join(txt)\n",
    "    clean_review.append(txt)\n",
    "# print(clean_review)\n",
    "# from array import array\n",
    "# y=array(t)\n",
    "# for i in range(4629):\n",
    "#     txt = re.sub('[^0-9]',' ',combine[10][i])\n",
    "    \n",
    "#     y.append(txt)\n",
    "y = np.array(combine[10].values.tolist())"
   ]
  },
  {
   "cell_type": "code",
   "execution_count": 249,
   "id": "preliminary-preliminary",
   "metadata": {
    "scrolled": true
   },
   "outputs": [],
   "source": [
    "from sklearn.feature_extraction.text import CountVectorizer\n",
    "cv = CountVectorizer(max_features=500)\n",
    "X = cv.fit_transform(clean_review)\n",
    "\n"
   ]
  },
  {
   "cell_type": "code",
   "execution_count": 250,
   "id": "threaded-minority",
   "metadata": {},
   "outputs": [],
   "source": [
    "from sklearn.feature_extraction.text import TfidfTransformer\n",
    "\n",
    "tfidf = TfidfTransformer()\n",
    "X = tfidf.fit_transform(X).toarray()"
   ]
  },
  {
   "cell_type": "code",
   "execution_count": 251,
   "id": "choice-curtis",
   "metadata": {},
   "outputs": [],
   "source": [
    "from sklearn.model_selection import train_test_split\n",
    "X_train, X_test, y_train, y_test = train_test_split(X,y, test_size = 0.8, random_state=0)"
   ]
  },
  {
   "cell_type": "code",
   "execution_count": 262,
   "id": "sudden-bulletin",
   "metadata": {
    "scrolled": false
   },
   "outputs": [
    {
     "name": "stdout",
     "output_type": "stream",
     "text": [
      "Shape of X_train: (3240, 500)\n",
      "Shape of y_train: (3240,)\n",
      "Shape of X_test: (1389, 500)\n",
      "Shape of y_test: (1389,)\n"
     ]
    }
   ],
   "source": [
    "# occ = np.asarray(X.sum(axis=0)).ravel().tolist()\n",
    "# # counts_df = pd.DataFrame({'term': cv.get_feature_names(), 'occurrences': occ})\n",
    "# counts_df.sort_values(by='occurrences', ascending=False).head(10)\n",
    "print('Shape of X_train:', X_train.shape)\n",
    "print('Shape of y_train:', y_train.shape)\n",
    "print('Shape of X_test:', X_test.shape)\n",
    "print('Shape of y_test:', y_test.shape)"
   ]
  },
  {
   "cell_type": "code",
   "execution_count": 263,
   "id": "democratic-burden",
   "metadata": {},
   "outputs": [],
   "source": [
    "from sklearn import svm\n",
    "clf = svm.SVC().fit(X_train, y_train)\n",
    "\n",
    "precision = clf.predict(X_test)\n"
   ]
  },
  {
   "cell_type": "code",
   "execution_count": 264,
   "id": "instrumental-boost",
   "metadata": {},
   "outputs": [],
   "source": [
    "y_pred = clf.predict(X_test)\n",
    "\n",
    "# print(\"Precision Score : \",precision)\n",
    "# print(\"Recall Score : \",clf(y_test, y_pred, pos_label='positive', average='micro'))\n"
   ]
  },
  {
   "cell_type": "code",
   "execution_count": 266,
   "id": "indonesian-glossary",
   "metadata": {},
   "outputs": [
    {
     "name": "stdout",
     "output_type": "stream",
     "text": [
      "45.28437724982001 %\n"
     ]
    },
    {
     "name": "stderr",
     "output_type": "stream",
     "text": [
      "/home/astra/.local/lib/python3.8/site-packages/sklearn/metrics/_classification.py:1295: UserWarning: Note that pos_label (set to 'positive') is ignored when average != 'binary' (got 'micro'). You may use labels=[pos_label] to specify a single positive class.\n",
      "  warnings.warn(\"Note that pos_label (set to %r) is ignored when \"\n"
     ]
    }
   ],
   "source": [
    "from sklearn.metrics import f1_score\n",
    "score=f1_score(y_test, y_pred,pos_label='positive', average='micro')\n",
    "print(score*100,\"%\")\n",
    "\n"
   ]
  },
  {
   "cell_type": "code",
   "execution_count": 268,
   "id": "continuing-forge",
   "metadata": {
    "scrolled": false
   },
   "outputs": [
    {
     "name": "stdout",
     "output_type": "stream",
     "text": [
      "Accuracy with Naive-bayes:  45.28437724982001 %\n"
     ]
    }
   ],
   "source": [
    "\n",
    "\n",
    "score_svm = accuracy_score(precision, y_test)\n",
    "\n",
    "print(\"Accuracy with Naive-bayes: \",(score_svm)*100,\"%\")\n",
    "\n"
   ]
  },
  {
   "cell_type": "markdown",
   "id": "accepted-lloyd",
   "metadata": {},
   "source": [
    "# Logistic Regression"
   ]
  },
  {
   "cell_type": "code",
   "execution_count": 287,
   "id": "sonic-thompson",
   "metadata": {},
   "outputs": [],
   "source": [
    "from sklearn.model_selection import train_test_split\n",
    "X_train, X_test, y_train, y_test = train_test_split(X, y, test_size = 0.5)"
   ]
  },
  {
   "cell_type": "code",
   "execution_count": 295,
   "id": "stock-sperm",
   "metadata": {},
   "outputs": [
    {
     "name": "stdout",
     "output_type": "stream",
     "text": [
      "Shape of X_train: (2314, 500)\n",
      "Shape of y_train: (2314,)\n",
      "Shape of X_test: (2315, 500)\n",
      "Shape of y_test: (2315,)\n"
     ]
    }
   ],
   "source": [
    "print('Shape of X_train:', X_train.shape)\n",
    "print('Shape of y_train:', y_train.shape)\n",
    "print('Shape of X_test:', X_test.shape)\n",
    "print('Shape of y_test:', y_test.shape)"
   ]
  },
  {
   "cell_type": "code",
   "execution_count": 296,
   "id": "comparable-warrant",
   "metadata": {},
   "outputs": [],
   "source": [
    "from sklearn.linear_model import LogisticRegression\n",
    "logreg = LogisticRegression()\n",
    "\n"
   ]
  },
  {
   "cell_type": "code",
   "execution_count": 297,
   "id": "unable-husband",
   "metadata": {},
   "outputs": [],
   "source": [
    "logreg = logreg.fit(X_train, y_train)"
   ]
  },
  {
   "cell_type": "code",
   "execution_count": 298,
   "id": "spatial-permission",
   "metadata": {},
   "outputs": [],
   "source": [
    "y_pred_test = logreg.predict(X_test)\n",
    "y_pred_train = logreg.predict(X_train)"
   ]
  },
  {
   "cell_type": "markdown",
   "id": "alien-pregnancy",
   "metadata": {},
   "source": [
    "# Accurracy of whole dataset"
   ]
  },
  {
   "cell_type": "code",
   "execution_count": 299,
   "id": "egyptian-cloud",
   "metadata": {},
   "outputs": [
    {
     "name": "stdout",
     "output_type": "stream",
     "text": [
      "57.39900626485201 %\n"
     ]
    }
   ],
   "source": [
    "score=logreg.score(X,y)\n",
    "print(score*100,\"%\")"
   ]
  },
  {
   "cell_type": "markdown",
   "id": "partial-coordinator",
   "metadata": {},
   "source": [
    "# Accuracy Score on Train DataSet (r2 value)"
   ]
  },
  {
   "cell_type": "code",
   "execution_count": 300,
   "id": "electric-gates",
   "metadata": {},
   "outputs": [
    {
     "name": "stdout",
     "output_type": "stream",
     "text": [
      "65.68712186689714 %\n"
     ]
    }
   ],
   "source": [
    "acc=logreg.score(X_train,y_train)\n",
    "print(acc*100,\"%\")"
   ]
  },
  {
   "cell_type": "markdown",
   "id": "three-novelty",
   "metadata": {},
   "source": [
    "# Accuracy Score on Whole DataSet (r2 value)"
   ]
  },
  {
   "cell_type": "code",
   "execution_count": 302,
   "id": "precise-cyprus",
   "metadata": {},
   "outputs": [
    {
     "name": "stdout",
     "output_type": "stream",
     "text": [
      "49.114470842332615 %\n"
     ]
    }
   ],
   "source": [
    "whole_dt_score=logreg.score(X_test,y_test)\n",
    "print(whole_dt_score*100,\"%\")\n"
   ]
  },
  {
   "cell_type": "code",
   "execution_count": 304,
   "id": "cathedral-residence",
   "metadata": {},
   "outputs": [
    {
     "data": {
      "text/plain": [
       "(138, 138)"
      ]
     },
     "execution_count": 304,
     "metadata": {},
     "output_type": "execute_result"
    }
   ],
   "source": []
  }
 ],
 "metadata": {
  "kernelspec": {
   "display_name": "Python 3",
   "language": "python",
   "name": "python3"
  },
  "language_info": {
   "codemirror_mode": {
    "name": "ipython",
    "version": 3
   },
   "file_extension": ".py",
   "mimetype": "text/x-python",
   "name": "python",
   "nbconvert_exporter": "python",
   "pygments_lexer": "ipython3",
   "version": "3.8.5"
  }
 },
 "nbformat": 4,
 "nbformat_minor": 5
}
